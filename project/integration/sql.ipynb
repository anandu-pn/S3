{
 "cells": [
  {
   "cell_type": "code",
   "execution_count": null,
   "id": "522afed1",
   "metadata": {},
   "outputs": [],
   "source": [
    "CREATE DATABASE IF NOT EXISTS video_detection;\n",
    "USE video_detection;\n",
    "\n",
    "CREATE TABLE IF NOT EXISTS detections (\n",
    "    id INT AUTO_INCREMENT PRIMARY KEY,\n",
    "    video VARCHAR(255),\n",
    "    output_video VARCHAR(255),\n",
    "    frame INT,\n",
    "    object_name VARCHAR(100),\n",
    "    confidence FLOAT,\n",
    "    x1 FLOAT,\n",
    "    y1 FLOAT,\n",
    "    x2 FLOAT,\n",
    "    y2 FLOAT,\n",
    "    created_at TIMESTAMP DEFAULT CURRENT_TIMESTAMP\n",
    ");\n"
   ]
  },
  {
   "cell_type": "code",
   "execution_count": null,
   "id": "f42dbcbd",
   "metadata": {},
   "outputs": [],
   "source": [
    "import pandas as pd\n",
    "import pymysql\n",
    "from sqlalchemy import create_engine\n",
    "\n",
    "# --- MySQL CONFIG ---\n",
    "MYSQL_USER = \"your_user\"\n",
    "MYSQL_PASS = \"your_pass\"\n",
    "MYSQL_HOST = \"your_mysql_host\"\n",
    "MYSQL_PORT = 3306\n",
    "MYSQL_DB   = \"video_detection\"\n",
    "MYSQL_TABLE = \"detections\"\n",
    "\n",
    "def save_to_mysql(detections_df):\n",
    "    \"\"\"\n",
    "    Save detections DataFrame to MySQL using SQLAlchemy for fast batch inserts.\n",
    "    \"\"\"\n",
    "    if detections_df.empty:\n",
    "        print(\"⚠️ No detections to insert into MySQL.\")\n",
    "        return\n",
    "\n",
    "    try:\n",
    "        # create connection engine\n",
    "        engine = create_engine(\n",
    "            f\"mysql+pymysql://{MYSQL_USER}:{MYSQL_PASS}@{MYSQL_HOST}:{MYSQL_PORT}/{MYSQL_DB}\"\n",
    "        )\n",
    "\n",
    "        # append mode -> keeps previous data\n",
    "        detections_df.to_sql(MYSQL_TABLE, con=engine, if_exists='append', index=False)\n",
    "        print(f\"✅ Inserted {len(detections_df)} rows into MySQL table '{MYSQL_TABLE}'\")\n",
    "    except Exception as e:\n",
    "        print(f\"❌ MySQL insert failed: {e}\")\n"
   ]
  }
 ],
 "metadata": {
  "language_info": {
   "name": "python"
  }
 },
 "nbformat": 4,
 "nbformat_minor": 5
}
