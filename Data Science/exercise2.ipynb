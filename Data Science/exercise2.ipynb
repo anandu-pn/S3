{
 "cells": [
  {
   "cell_type": "markdown",
   "id": "3151851d",
   "metadata": {},
   "source": [
    "read values from user and create two matrix and find following"
   ]
  },
  {
   "cell_type": "code",
   "execution_count": 1,
   "id": "1d924e6f",
   "metadata": {},
   "outputs": [],
   "source": [
    "import numpy as np"
   ]
  },
  {
   "cell_type": "code",
   "execution_count": 20,
   "id": "6415bf2b",
   "metadata": {},
   "outputs": [
    {
     "name": "stdout",
     "output_type": "stream",
     "text": [
      "Transpose\n",
      "The matrix entered :\n",
      " [[1 2]\n",
      " [3 4]]\n",
      "Transpose matrix:\n",
      " [[1 3]\n",
      " [2 4]]\n"
     ]
    }
   ],
   "source": [
    "def mat_in(num):\n",
    "    m=int(input(\"Enter size of matrix:\"))\n",
    "    n=int(input(\"Enter size of matrix:\"))\n",
    "    mat=np.empty((m,n),dtype=int)\n",
    "    for i in range(0,m):\n",
    "        for j in range(0,n):\n",
    "            mat[i][j]=int(input(f\"Enter the {i} {j} element:\"))\n",
    "    print(\"The matrix entered :\\n\",mat)\n",
    "\n",
    "    return mat\n",
    "\n",
    "\n",
    "while(True):\n",
    "    choice=int(input(\"Enter choice:\\n1.Dot product\\n2.Transpose\\n3.Trace\\n4.Rank\\n5.Inverse\\n6.Determinant\\n7.Eigen value and vector\"))\n",
    "    if choice==1:\n",
    "        print(\"Dot Product\")\n",
    "        x=mat_in(1)\n",
    "        y=mat_in(2)\n",
    "        print(\"The dot product of two matrix:\\n\",np.dot(x,y))\n",
    "        continue\n",
    "    elif choice==2:\n",
    "        print(\"Transpose\")\n",
    "        x=mat_in(1)\n",
    "        print(\"Transpose matrix:\\n\",np.transpose(x))\n",
    "        continue\n",
    "    elif choice==3:\n",
    "        print(\"Trace\")\n",
    "        x=mat_in(1)\n",
    "        print(\"Trace of matrix:\\n\",np.trace(x))\n",
    "        continue\n",
    "    elif choice==4:\n",
    "        print(\"Rank\")\n",
    "        x=mat_in(1)\n",
    "        print(\"Rank of matrix:\\n\",np.linalg.matrix_rank(x))\n",
    "        continue\n",
    "    elif choice==5:\n",
    "        print(\"Inverse\")\n",
    "        x=mat_in(1)\n",
    "        print(\"Inverse of matrix:\\n\",np.linalg.inv(x))\n",
    "        continue\n",
    "    elif choice==6:\n",
    "        print(\"Determinant\")\n",
    "        x=mat_in(1)\n",
    "        print(\"Determinant of matrix:\\n\",np.linalg.det(x))\n",
    "        continue\n",
    "    elif choice==7:\n",
    "        print(\"Eigen \")\n",
    "        x=mat_in(1)\n",
    "        print(\"Eigen value:\\n\",np.linalg.eigvals(x))\n",
    "        e,eigenvectors=np.linalg.eig(x)\n",
    "        for i in range(len(eigenvectors.T)):\n",
    "            print(f\"Eigenvector {i+1}:\\n\", eigenvectors[:, i])\n",
    "        continue\n",
    "    elif choice==8:\n",
    "        break\n",
    "    else:\n",
    "        print(\"You entered invalid option !\")\n"
   ]
  }
 ],
 "metadata": {
  "kernelspec": {
   "display_name": "base",
   "language": "python",
   "name": "python3"
  },
  "language_info": {
   "codemirror_mode": {
    "name": "ipython",
    "version": 3
   },
   "file_extension": ".py",
   "mimetype": "text/x-python",
   "name": "python",
   "nbconvert_exporter": "python",
   "pygments_lexer": "ipython3",
   "version": "3.9.19"
  }
 },
 "nbformat": 4,
 "nbformat_minor": 5
}
