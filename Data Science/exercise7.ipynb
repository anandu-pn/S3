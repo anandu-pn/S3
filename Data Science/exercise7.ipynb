{
 "cells": [
  {
   "cell_type": "code",
   "execution_count": null,
   "id": "a3312272",
   "metadata": {},
   "outputs": [],
   "source": [
    "import pandas as pd\n",
    "import matplotlib.pyplot as plt\n",
    "from sklearn.datasets import load_iris\n",
    "from sklearn.tree import DecisionTreeClassifier, plot_tree\n",
    "from sklearn.model_selection import train_test_split\n",
    "\n",
    "# Load Iris dataset\n",
    "iris = load_iris()\n",
    "X = iris.data\n",
    "y = iris.target\n",
    "\n",
    "# Feature and class names\n",
    "fname = iris.feature_names\n",
    "tname = iris.target_names\n",
    "\n",
    "# Split data for training/testing\n",
    "X_train, X_test, y_train, y_test = train_test_split(X, y, test_size=0.3, random_state=42)\n",
    "\n",
    "# Train decision tree\n",
    "clf = DecisionTreeClassifier(criterion=\"entropy\", max_depth=4, min_samples_leaf=2)\n",
    "clf = clf.fit(X_train, y_train)\n",
    "\n",
    "# Plot the tree with improved styling\n",
    "plt.figure(figsize=(16,10))\n",
    "plot_tree(\n",
    "    clf,\n",
    "    fontsize=12,\n",
    "    filled=True,\n",
    "    rounded=True,\n",
    "    class_names=tname,\n",
    "    feature_names=fname,\n",
    "    proportion=True,           # Show proportions instead of raw samples\n",
    "    impurity=True              # Display entropy values\n",
    ")\n",
    "plt.title(\"Decision Tree for Iris Dataset\", fontsize=16, fontweight='bold')\n",
    "plt.tight_layout()\n",
    "plt.show()\n",
    "\n",
    "# Evaluate accuracy\n",
    "accuracy = clf.score(X_test, y_test)\n",
    "print(\"Model accuracy:\", round(accuracy * 100, 2), \"%\")\n"
   ]
  }
 ],
 "metadata": {
  "kernelspec": {
   "display_name": "base",
   "language": "python",
   "name": "python3"
  },
  "language_info": {
   "codemirror_mode": {
    "name": "ipython",
    "version": 3
   },
   "file_extension": ".py",
   "mimetype": "text/x-python",
   "name": "python",
   "nbconvert_exporter": "python",
   "pygments_lexer": "ipython3",
   "version": "3.9.19"
  }
 },
 "nbformat": 4,
 "nbformat_minor": 5
}
