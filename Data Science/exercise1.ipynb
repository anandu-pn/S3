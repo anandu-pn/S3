{
 "cells": [
  {
   "cell_type": "markdown",
   "id": "8c0cf64e",
   "metadata": {},
   "source": [
    "Qn1"
   ]
  },
  {
   "cell_type": "code",
   "execution_count": 1,
   "id": "4a1c5860",
   "metadata": {},
   "outputs": [],
   "source": [
    "import numpy as np"
   ]
  },
  {
   "cell_type": "markdown",
   "id": "6daee7fe",
   "metadata": {},
   "source": [
    "1)Write a NumPy program to convert Fahrenheit degree to centigrade degree. Fahrenheit\n",
    "values are stored in a NumPy array"
   ]
  },
  {
   "cell_type": "code",
   "execution_count": 5,
   "id": "9e4e026c",
   "metadata": {},
   "outputs": [
    {
     "name": "stdout",
     "output_type": "stream",
     "text": [
      "Result:\n",
      "Faranheit:\n",
      "[40. 98.]\n",
      "Celecius:\n",
      "[ 4.44444444 36.66666667]\n"
     ]
    }
   ],
   "source": [
    "n=int(input(\"Enter number of faranheit values:\"))\n",
    "xin=np.ones((n))\n",
    "cout=np.ones((n))\n",
    "for i in range(0,n):\n",
    "    xin[i]=float(input(\"Enter faranheit values:\"))\n",
    "    cout[i]=((5/9)*(xin[i]-32))\n",
    "print(\"Result:\")\n",
    "print(\"Faranheit:\")\n",
    "print(xin)\n",
    "print(\"Celecius:\")\n",
    "print(cout)"
   ]
  },
  {
   "cell_type": "markdown",
   "id": "3ebe8ecb",
   "metadata": {},
   "source": [
    "Write a NumPy program to create a random array with 1000 elements and compute the\n",
    "average, variance, standard deviation of the array elements."
   ]
  },
  {
   "cell_type": "code",
   "execution_count": 12,
   "id": "aaeffd73",
   "metadata": {},
   "outputs": [
    {
     "name": "stdout",
     "output_type": "stream",
     "text": [
      "[2530 6042 6570 9839 3661 8372 9046  420 7333 1015 9645 1015 5064 6633\n",
      " 6177 5964 5183 4852 2247 2036 8612  805 3220  881 4459 3239 8763 6055\n",
      " 9882 8522  200 9467 1682 1087 1719  812  809 3988 5105 5212 2830 9067\n",
      " 9063 9449  185 3422 9190 2276  692 8346 4552 1310 5916 7535 8814 5621\n",
      " 8072 6078 5350 7441 1577 8637 8465  675  725 1419 9652 3085 8782   87\n",
      " 7207 2533 4555 1124 4225 7190 1474 3747 3918 9539 4727 8457 6120 8704\n",
      " 4601 7116 3278 8876 1592 7000 5243 7091 8574 4754 2523 7169 8559 4426\n",
      " 6276 5569 5240 1919 2847 9672 5187 8767 9435 5283 6823 8416 1780 2346\n",
      " 7072 2151 8579 9898 5443 1623 1094 9308  544 7742 5065 9036 7105 6559\n",
      " 5364 4835 6350  818 6577 7706 2968 3087 4420 4062 6148  349 6837 6258\n",
      " 6441 4197 7495 7882 3772 7000 5100 9564 2325 8873 5045 5599 5003 5095\n",
      " 4351 2973 4171 1192 6404 5217 8056 4317 8072 9149 8804 8427 6114  871\n",
      " 2134 5367 9228 9327 7331 2150 2780 1398 7006 3211 5869 3623  734  889\n",
      " 1909 4912 3088 9371 8542 6597 2116 1901 1025 1928 4733 4294 2549 8343\n",
      " 9238 9462 6798 7597  542 7546 1434  370 8675 9367 5730 7173 1276 2602\n",
      " 4498 6452 5398 3340 4939 2414 3747 9564 9923 4126 7061 7639 5243 7519\n",
      " 8947 7294 8253 2765 9173 4405  446 2734 6848 2699 6022 7546 6323 3340\n",
      " 5292 2226 3452 1998 1589 7183 8486 4441 7298 6488   53 6970 2502  607\n",
      " 8677  486 2297 9255 1301 6092 6503 2617 4597 6305 9782 6354 4185 5458\n",
      "  707 7084 4212 6861 6480 3240 7601 1824 7253 5424 1356  502 3167   76\n",
      " 2832 3700 7136 6502 4296 4283  285 8346 8943 2798 3230 5114  950 2066\n",
      " 9739 3826 7341 5326 7763 6651 9258 5607 1831 9771 5101  353 2664 8654\n",
      " 1456 2407 1635  444 7790 4452 3851 3097 7378 4084 2025 9997 8196 9798\n",
      " 3886 7439 4276 6839 9398 6587  732   18  352 3564 4113 7145 3747 5165\n",
      " 3033 6652 5363 9406 3069 4265 8852 8200 5971 4002 6238 4825 1331 4909\n",
      " 3271 4422 6836   42 9005 4673 4883 8033   85 4931 6815 4610  404 9616\n",
      " 1546 1650 4221 9683 1189 3594 3802 7295 4213  634 8628 5215 9204 7786\n",
      " 5379 5524 2552 2532 1609 4491 3126 4767 2094 7633 8465 6080 8215 9825\n",
      " 7980 9787 4971  532 7952 7237 1156 6845 1170 1258 9464 5160 6398 2339\n",
      " 7501 7368 5902 3801 1479 3607 4746 9309 5097 9828   93 2294 7619 3929\n",
      " 6763 6924 8518 7906 1503  382 6261 9297 1258    2  792  884 1506 4681\n",
      " 6110 4347 2014 8877 4552 3401 5316 2744 4865 2927  453  684 9005 1919\n",
      " 6021 8229 6006 5533 4418 6342 6112 2651 8324  727 6703 5238 2960 8346\n",
      " 8164 1242 6648 1146 4163 2600 2589 4454 3866 9687 3351 8854 6337 2640\n",
      " 5132 6846 5740 5918 6409 1221   23 1182 3527 2746 7752 7217 9204 1202\n",
      " 5119 3668 1675 3165 8777 9889 2137 4525 4486 5088 5595 2449  806 3090\n",
      " 8967 1508 1051 9394 1799 8290 2508 7061   39 3473  440 8184  471 7698\n",
      " 7275 1681 4789 7694 6114 3832 5107  429 1490 7750 4061  458 6893 7818\n",
      " 4789 2352 8895  674 8193 3975 8017 6534 6820 2403 1831 1749 1179 7824\n",
      " 5104 6534 6657 2063 1637 1071 7572 8344 4734 4022 6722 8383 5666 8849\n",
      " 2103 4831 3698   96 8148 5240 7150 5011 8677 7782 9413 9125 6674 6554\n",
      " 8866 6102 7745 9194 2237 7782 6666 9469 8784 4862 3006 8699 7389 2741\n",
      " 7702 2154 5693 5957 2456 8161  458 9330 6600 2051 2643 5183 9010 2753\n",
      " 8356 9858 9532  384 6889 2376 4476 7503 8439 8189 9356 8002 1326 2583\n",
      " 6490 2841 3021 1995 1359 4259  825 9325 3252 5214  711 1646 3086 2630\n",
      " 7706 6452 9055 6626 9246 9784 5467 3044 6229 1795 2885 3299 3066 9950\n",
      " 4846 9381 3117 1879 1939 3144 2776 2103  619 2887 2540 9120 5521 4990\n",
      " 7786 7655 3289 6591 8800 2737 6990 6904 1649 6987 7730 4382 3367 1216\n",
      " 4130 1577 9117 8121 5840 3850 3881 9406 2845 9703 2021 3802 7686 9296\n",
      " 1358 5553 3572 8771 2076 8588 2192  516 4728 9708 8215 9710  725 9035\n",
      " 7790 5570 7726 3252 2733  409 4478 6891 7447 9482 5663 1564 2615 5153\n",
      " 3940 3521 2015 8958 5461 4378 1451 8301 3681 4258 4754 4293 1624 9493\n",
      " 4837 5253 5152 5777 7405 1744 8657 9930 4391 7718 5576 4929 8574 3540\n",
      "   10 3847 4409 6531 7605 9947 4160 8066 4358  405 5500 5623 5961 4395\n",
      " 8265 1889 4336 2749 6684 8155 9017  348 4726 2485 9799 9620 5737 5547\n",
      " 1358 9425 4737 8133 4023 2709 5981 2367 5777 7170 7026 1265 6256 2502\n",
      " 1912 6819  491 1992 7585 3636 2990 9988 2527 5103 9617 5153 6298 3444\n",
      " 9469  199 4202 9892 2968 6171 7916 9536 5797 8095 4852 6636 1143 6858\n",
      " 5073 6411 2767 4631 8419  656 1445 9618 6862 7191 6176 3089 9674 5190\n",
      " 4605 8243 6684 3794  503 2109 8353 2775 8487 5896 1824 1779 8184 5018\n",
      " 7784 6967 5269 1205 5292 6393 7693 9217 1095 8667 5766 7726 5415 5550\n",
      " 5644 9661  101 3238 4858 2806 5415 1873 4446  419 6292 6578 7336 2916\n",
      " 6338 8689 2336 9252 9110 4058 5409 5741   95 8131 6574 9256 2885 8635\n",
      " 6049  573 1414  816   56 2547 1936 2607 6377 2625 8238 1228 2969 3715\n",
      " 4024 4140 9238 9751 4227 7970 3748 7627 6989 7817  570 7948 1938 3604\n",
      " 6910 9444 4199 3478 4046 9499 6736 3650 2215 5624 8233 2313 3926 6712\n",
      "  638  443 7108 3714 2785 1642 4116 4370 5158 1682 6551 6137 3832 3667\n",
      " 6527  941 1267 8179 5683 5053 1160 5611 5695 4279 8299 5109 4483  164\n",
      "   45 1546 4228 9623 2971 5010 5595 2265 3420 2134 4155 4765 3092 2008\n",
      " 3717 4279 8867 3671 7645 1134 8394 2555 5278 2162 6498 2895 2932 2336\n",
      " 4523 2016 8463 1911 3282 3925 2091 6484 5427 8002 9755 7271 1814 8160\n",
      " 2541 9187  492 9205 1493 6336]\n",
      "Avererage: 5039.888\n",
      "varience: 7991368.807456\n",
      "STD deviation: 2826.900919285287\n"
     ]
    }
   ],
   "source": [
    "randarr=np.random.randint(0,10000,1000)\n",
    "print(randarr)\n",
    "\n",
    "\n",
    "print(\"Avererage:\",randarr.mean())\n",
    "print(\"varience:\",randarr.var())\n",
    "print(\"STD deviation:\",randarr.std())\n"
   ]
  },
  {
   "cell_type": "markdown",
   "id": "9c4df83b",
   "metadata": {},
   "source": [
    "Write a NumPy program to convert angles from degrees to radians for all elements in a\n",
    "given array"
   ]
  },
  {
   "cell_type": "code",
   "execution_count": 14,
   "id": "fa614063",
   "metadata": {},
   "outputs": [
    {
     "name": "stdout",
     "output_type": "stream",
     "text": [
      "[0.7853985 2.3561955 5.1487235]\n"
     ]
    }
   ],
   "source": [
    "deg_angle=np.array([45,135,295])\n",
    "rad_angle=deg_angle*0.0174533\n",
    "print(rad_angle)"
   ]
  },
  {
   "cell_type": "markdown",
   "id": "14ad444e",
   "metadata": {},
   "source": [
    "Write a NumPy program to calculate the difference between neighbouring elements,\n",
    "element-wise of a given array."
   ]
  },
  {
   "cell_type": "code",
   "execution_count": 16,
   "id": "c529eeec",
   "metadata": {},
   "outputs": [
    {
     "name": "stdout",
     "output_type": "stream",
     "text": [
      "Original arr: [ 12  33 123  45]\n",
      "Diff arr: [ 21  90 -78]\n"
     ]
    }
   ],
   "source": [
    "test_diff_arr=np.array([12,33,123,45])\n",
    "diff_arr=np.diff(test_diff_arr)\n",
    "print(\"Original arr:\",test_diff_arr)\n",
    "print(\"Diff arr:\",diff_arr)"
   ]
  },
  {
   "cell_type": "markdown",
   "id": "38a9a851",
   "metadata": {},
   "source": [
    "Write a NumPy program to sort a given complex array using the real part first, then the\n",
    "imaginary part."
   ]
  },
  {
   "cell_type": "code",
   "execution_count": null,
   "id": "2b18ffe3",
   "metadata": {},
   "outputs": [
    {
     "name": "stdout",
     "output_type": "stream",
     "text": [
      "[1.+0.j 1.+3.j 2.+1.j 2.+3.j 5.+2.j]\n",
      "[1.+0.j 1.+3.j 2.+1.j 2.+3.j 5.+2.j]\n"
     ]
    }
   ],
   "source": [
    "com_num=np.array([2+3j,5+2j,1+0j,1+3j,2+1j])\n",
    "sort_indice=np.lexsort((com_num.imag,com_num.real))\n",
    "sorteds_com_num=com_num[sort_indice]\n",
    "print(sorteds_com_num)\n",
    "#other method\n",
    "SORT=np.sort_complex(com_num)\n",
    "print(SORT)"
   ]
  },
  {
   "cell_type": "markdown",
   "id": "f4a27374",
   "metadata": {},
   "source": [
    "Write a NumPy program to create a 1D array with random numbers and print the values\n",
    "greater than 4."
   ]
  },
  {
   "cell_type": "code",
   "execution_count": 29,
   "id": "d00b31d4",
   "metadata": {},
   "outputs": [
    {
     "name": "stdout",
     "output_type": "stream",
     "text": [
      "Origibnal array: [5 4 6]\n",
      "array with element gt 4: [5 6]\n"
     ]
    }
   ],
   "source": [
    "randgt=np.random.randint(1,10,3)\n",
    "randgt4=randgt[randgt>4]\n",
    "print(\"Origibnal array:\",randgt)\n",
    "print(\"array with element gt 4:\",randgt4)"
   ]
  },
  {
   "cell_type": "markdown",
   "id": "56361fc0",
   "metadata": {},
   "source": [
    " Write a NumPy program to create a 1D array with random numbers and search a particular\n",
    "number given by the user."
   ]
  },
  {
   "cell_type": "code",
   "execution_count": 33,
   "id": "4abfb31a",
   "metadata": {},
   "outputs": [
    {
     "name": "stdout",
     "output_type": "stream",
     "text": [
      "element found at [192]\n"
     ]
    }
   ],
   "source": [
    "rand_serch_arr=np.random.randint(0,1000,299)\n",
    "ele=int(input(\"Enter value to search:\"))\n",
    "x1=np.where(rand_serch_arr==ele)\n",
    "if(x1[0].size>0):\n",
    "    print(\"element found at\",x1[0])\n",
    "else:\n",
    "    print(ele,\"not found\")"
   ]
  },
  {
   "cell_type": "markdown",
   "id": "9d9a3889",
   "metadata": {},
   "source": [
    "Write a NumPy program to save a given array to a text file and load it"
   ]
  },
  {
   "cell_type": "code",
   "execution_count": 34,
   "id": "5227a694",
   "metadata": {},
   "outputs": [
    {
     "name": "stdout",
     "output_type": "stream",
     "text": [
      "Saved array: [ 22   3  44  12  11 346 978]\n"
     ]
    }
   ],
   "source": [
    "save_arr=np.array([22,3,44,12,11,346,978])\n",
    "np.savetxt(\"array.txt\",save_arr,fmt=\"%d\")\n",
    "saved_array=np.loadtxt(\"array.txt\",dtype=int)\n",
    "print(\"Saved array:\",saved_array)"
   ]
  },
  {
   "cell_type": "markdown",
   "id": "1dab6cf7",
   "metadata": {},
   "source": [
    "9.Write a NumPy program to create an array of all the even integers from 30 to 60."
   ]
  },
  {
   "cell_type": "code",
   "execution_count": 38,
   "id": "0a3d9e45",
   "metadata": {},
   "outputs": [
    {
     "name": "stdout",
     "output_type": "stream",
     "text": [
      "Array of even number bw 30 and 60:\n",
      " [30 32 34 36 38 40 42 44 46 48 50 52 54 56 58 60]\n"
     ]
    }
   ],
   "source": [
    "even_arr=np.arange(30,61,2)\n",
    "print(\"Array of even number bw 30 and 60:\\n\",even_arr)"
   ]
  },
  {
   "cell_type": "markdown",
   "id": "d101ad93",
   "metadata": {},
   "source": [
    "Write a NumPy program to compute sum of all elements ,sum of each column and sum of\n",
    "each row of a given array."
   ]
  },
  {
   "cell_type": "code",
   "execution_count": 41,
   "id": "66aad112",
   "metadata": {},
   "outputs": [
    {
     "name": "stdout",
     "output_type": "stream",
     "text": [
      "Sum of each element: 274\n",
      "Sum of each column: [158 116]\n",
      "Sum of each row: [34 43 46 60 49 42]\n"
     ]
    }
   ],
   "source": [
    "array_op=np.array([[22,32,1,23,46,34],[12,11,45,37,3,8]])\n",
    "print(\"Sum of each element:\",array_op.sum())\n",
    "print(\"Sum of each column:\",array_op.sum(axis=1))\n",
    "print(\"Sum of each row:\",array_op.sum(axis=0))"
   ]
  }
 ],
 "metadata": {
  "kernelspec": {
   "display_name": "base",
   "language": "python",
   "name": "python3"
  },
  "language_info": {
   "codemirror_mode": {
    "name": "ipython",
    "version": 3
   },
   "file_extension": ".py",
   "mimetype": "text/x-python",
   "name": "python",
   "nbconvert_exporter": "python",
   "pygments_lexer": "ipython3",
   "version": "3.9.19"
  }
 },
 "nbformat": 4,
 "nbformat_minor": 5
}
