{
 "cells": [
  {
   "cell_type": "markdown",
   "id": "0610b167",
   "metadata": {},
   "source": [
    "20MCA241: DATA SCIENCE LAB\n",
    "LAB CYCLE 1\n",
    "EXERCISE 4: Introduction to Pandas\n",
    "1. Write a python program to implement List-to-Series Conversion.\n",
    "2. Write a python program to Generate the series of dates from 1st May, 2021 to 12th\n",
    "May, 2021 (both inclusive).\n",
    "3. Given a dictionary, convert it into corresponding dataframe and display it.\n",
    "4. Given a 2D List, convert it into corresponding dataframe and display it.\n",
    "5. Given a CSV file, read it into a dataframe and display it.\n",
    "6. Given a dataframe, sort it by multiple columns.\n",
    "7. Given a dataframe with custom indexing, convert and it to default indexing and\n",
    "display it.\n",
    "8. Given a dataframe, select first 2 rows and output them.\n",
    "9. Given is a dataframe showing name, occupation, salary of people. Find the average\n",
    "salary per occupation.\n",
    "10. Given a dataframe with NaN Values, fill the NaN values with 0.\n",
    "11. Given is a dataframe showing Company Names (cname) and corresponding Profits\n",
    "(profit). Convert the values of Profit column such that values in it greater than 0 are\n",
    "set to True and the rest are set to False.\n",
    "12. Given are 2 dataframes, with one dataframe containing Employee ID (eid), Employee\n",
    "Name (ename) and Stipend (stipend) and the other dataframe containing Employee ID\n",
    "(eid) and designation of the employee (designation). Output the Dataframe containing\n",
    "Employee ID (eid), Employee Name (ename), Stipend (stipend) and Position\n",
    "(position)."
   ]
  },
  {
   "cell_type": "code",
   "execution_count": 1,
   "id": "95cb44c0",
   "metadata": {},
   "outputs": [],
   "source": [
    "import pandas as pd"
   ]
  },
  {
   "cell_type": "code",
   "execution_count": null,
   "id": "36509673",
   "metadata": {},
   "outputs": [
    {
     "name": "stdout",
     "output_type": "stream",
     "text": [
      "0    10\n",
      "1    20\n",
      "2    30\n",
      "3    40\n",
      "4    50\n",
      "dtype: int64\n"
     ]
    }
   ],
   "source": [
    "#qn1 series\n",
    "print(pd.Series([10, 20, 30, 40, 50]))"
   ]
  },
  {
   "cell_type": "code",
   "execution_count": null,
   "id": "099f7b58",
   "metadata": {},
   "outputs": [
    {
     "name": "stdout",
     "output_type": "stream",
     "text": [
      "Date Series:\n",
      " DatetimeIndex(['2021-05-01', '2021-05-02', '2021-05-03', '2021-05-04',\n",
      "               '2021-05-05', '2021-05-06', '2021-05-07', '2021-05-08',\n",
      "               '2021-05-09', '2021-05-10', '2021-05-11', '2021-05-12'],\n",
      "              dtype='datetime64[ns]', freq='D')\n"
     ]
    }
   ],
   "source": [
    "print(pd.date_range(\"2021-05-01\",\"2021-05-12\"))"
   ]
  },
  {
   "cell_type": "code",
   "execution_count": 13,
   "id": "00665f99",
   "metadata": {},
   "outputs": [
    {
     "name": "stdout",
     "output_type": "stream",
     "text": [
      "Dictionary to DataFrame:\n",
      "       Name  Age       City\n",
      "0    Alice   24      Delhi\n",
      "1      Bob   30     Mumbai\n",
      "2  Charlie   28  Bangalore\n"
     ]
    }
   ],
   "source": [
    "#QN3 DICT  TO DF\n",
    "data = {\n",
    "    \"Name\": [\"Alice\", \"Bob\", \"Charlie\"],\n",
    "    \"Age\": [24, 30, 28],\n",
    "    \"City\": [\"Delhi\", \"Mumbai\", \"Bangalore\"]\n",
    "}\n",
    "df = pd.DataFrame(data)\n",
    "print(\"Dictionary to DataFrame:\\n\", df)"
   ]
  },
  {
   "cell_type": "code",
   "execution_count": null,
   "id": "dece5540",
   "metadata": {},
   "outputs": [
    {
     "name": "stdout",
     "output_type": "stream",
     "text": [
      "  Name  Age\n",
      "0    A   24\n",
      "1    B   30\n"
     ]
    }
   ],
   "source": [
    "#qn4\n",
    "print(pd.DataFrame([[\"A\",24],[\"B\",30]],columns=[\"Name\",\"Age\"]))\n",
    "'''\n",
    "data = [\n",
    "    [\"Alice\", 24, \"Delhi\"],\n",
    "    [\"Bob\", 30, \"Mumbai\"],\n",
    "    [\"Charlie\", 28, \"Bangalore\"]\n",
    "]\n",
    "df = pd.DataFrame(data, columns=[\"Name\", \"Age\", \"City\"])\n",
    "print(\"2D List to DataFrame:\\n\", df)\n",
    "'''"
   ]
  },
  {
   "cell_type": "code",
   "execution_count": 11,
   "id": "cad97015",
   "metadata": {},
   "outputs": [
    {
     "name": "stdout",
     "output_type": "stream",
     "text": [
      "CSV to DataFrame:\n",
      "          Country  Gold Medals\n",
      "0  United States           46\n",
      "1  Great Britain           27\n",
      "2          China           26\n",
      "3         Russia           19\n",
      "4        Germany           17\n"
     ]
    }
   ],
   "source": [
    "df = pd.read_csv(\"ex3.csv\")  # replace with actual CSV filename\n",
    "print(\"CSV to DataFrame:\\n\", df)"
   ]
  },
  {
   "cell_type": "code",
   "execution_count": 16,
   "id": "fdc0d0c8",
   "metadata": {},
   "outputs": [
    {
     "name": "stdout",
     "output_type": "stream",
     "text": [
      "Sorted by Age & Salary:\n",
      "       Name  Age       City\n",
      "0    Alice   24      Delhi\n",
      "2  Charlie   28  Bangalore\n",
      "1      Bob   30     Mumbai\n"
     ]
    }
   ],
   "source": [
    "#qn6 sort df multiple col\n",
    "df = pd.DataFrame(data)\n",
    "sorted_df = df.sort_values(by=[\"Age\", \"City\"])\n",
    "print(\"Sorted by Age & Salary:\\n\", sorted_df)"
   ]
  },
  {
   "cell_type": "code",
   "execution_count": 17,
   "id": "62b4b8c9",
   "metadata": {},
   "outputs": [
    {
     "name": "stdout",
     "output_type": "stream",
     "text": [
      "Custom Indexing:\n",
      "       Name  Age\n",
      "a    Alice   24\n",
      "b      Bob   30\n",
      "c  Charlie   28\n",
      "\n",
      "Converted to Default Indexing:\n",
      "       Name  Age\n",
      "0    Alice   24\n",
      "1      Bob   30\n",
      "2  Charlie   28\n"
     ]
    }
   ],
   "source": [
    "#qn7 \n",
    "data = {\n",
    "    \"Name\": [\"Alice\", \"Bob\", \"Charlie\"],\n",
    "    \"Age\": [24, 30, 28]\n",
    "}\n",
    "df = pd.DataFrame(data, index=[\"a\", \"b\", \"c\"])\n",
    "print(\"Custom Indexing:\\n\", df)\n",
    "\n",
    "df_reset = df.reset_index(drop=True)\n",
    "print(\"\\nConverted to Default Indexing:\\n\", df_reset)"
   ]
  },
  {
   "cell_type": "code",
   "execution_count": 18,
   "id": "c68c1895",
   "metadata": {},
   "outputs": [
    {
     "name": "stdout",
     "output_type": "stream",
     "text": [
      "First 2 Rows:\n",
      "     Name  Age\n",
      "0  Alice   24\n",
      "1    Bob   30\n"
     ]
    }
   ],
   "source": [
    "#qn8 first 2 rows\n",
    "data = {\"Name\": [\"Alice\", \"Bob\", \"Charlie\"], \"Age\": [24, 30, 28]}\n",
    "df = pd.DataFrame(data)\n",
    "print(\"First 2 Rows:\\n\", df.head(2))"
   ]
  },
  {
   "cell_type": "code",
   "execution_count": 19,
   "id": "9515330a",
   "metadata": {},
   "outputs": [
    {
     "name": "stdout",
     "output_type": "stream",
     "text": [
      "Average Salary per Occupation:\n",
      " Occupation\n",
      "Doctor      85000.0\n",
      "Engineer    52500.0\n",
      "Name: Salary, dtype: float64\n"
     ]
    }
   ],
   "source": [
    "#qn9\n",
    "import pandas as pd\n",
    "\n",
    "data = {\n",
    "    \"Name\": [\"Alice\", \"Bob\", \"Charlie\", \"David\"],\n",
    "    \"Occupation\": [\"Engineer\", \"Doctor\", \"Engineer\", \"Doctor\"],\n",
    "    \"Salary\": [50000, 80000, 55000, 90000]\n",
    "}\n",
    "df = pd.DataFrame(data)\n",
    "avg_salary = df.groupby(\"Occupation\")[\"Salary\"].mean()\n",
    "print(\"Average Salary per Occupation:\\n\", avg_salary)\n"
   ]
  },
  {
   "cell_type": "code",
   "execution_count": 20,
   "id": "70c8999d",
   "metadata": {},
   "outputs": [
    {
     "name": "stdout",
     "output_type": "stream",
     "text": [
      "Before Filling NaN:\n",
      "      A    B\n",
      "0  1.0  4.0\n",
      "1  NaN  5.0\n",
      "2  3.0  NaN\n",
      "\n",
      "After Filling NaN:\n",
      "      A    B\n",
      "0  1.0  4.0\n",
      "1  0.0  5.0\n",
      "2  3.0  0.0\n"
     ]
    }
   ],
   "source": [
    "import pandas as pd\n",
    "import numpy as np\n",
    "\n",
    "data = {\n",
    "    \"A\": [1, np.nan, 3],\n",
    "    \"B\": [4, 5, np.nan]\n",
    "}\n",
    "df = pd.DataFrame(data)\n",
    "print(\"Before Filling NaN:\\n\", df)\n",
    "\n",
    "df_filled = df.fillna(0)\n",
    "print(\"\\nAfter Filling NaN:\\n\", df_filled)\n"
   ]
  },
  {
   "cell_type": "code",
   "execution_count": 21,
   "id": "3430ec93",
   "metadata": {},
   "outputs": [
    {
     "name": "stdout",
     "output_type": "stream",
     "text": [
      "Profit Column Converted to Boolean:\n",
      "   cname  profit\n",
      "0     A    True\n",
      "1     B   False\n",
      "2     C   False\n"
     ]
    }
   ],
   "source": [
    "import pandas as pd\n",
    "\n",
    "data = {\n",
    "    \"cname\": [\"A\", \"B\", \"C\"],\n",
    "    \"profit\": [1000, -500, 0]\n",
    "}\n",
    "df = pd.DataFrame(data)\n",
    "df[\"profit\"] = df[\"profit\"] > 0\n",
    "print(\"Profit Column Converted to Boolean:\\n\", df)\n"
   ]
  },
  {
   "cell_type": "code",
   "execution_count": 22,
   "id": "6bbfdfec",
   "metadata": {},
   "outputs": [
    {
     "name": "stdout",
     "output_type": "stream",
     "text": [
      "Merged DataFrame:\n",
      "    eid    ename  stipend designation\n",
      "0  101    Alice     1000      Intern\n",
      "1  102      Bob     1200     Trainee\n",
      "2  103  Charlie     1500      Junior\n"
     ]
    }
   ],
   "source": [
    "import pandas as pd\n",
    "\n",
    "df1 = pd.DataFrame({\n",
    "    \"eid\": [101, 102, 103],\n",
    "    \"ename\": [\"Alice\", \"Bob\", \"Charlie\"],\n",
    "    \"stipend\": [1000, 1200, 1500]\n",
    "})\n",
    "\n",
    "df2 = pd.DataFrame({\n",
    "    \"eid\": [101, 102, 103],\n",
    "    \"designation\": [\"Intern\", \"Trainee\", \"Junior\"]\n",
    "})\n",
    "\n",
    "merged_df = pd.merge(df1, df2, on=\"eid\")\n",
    "print(\"Merged DataFrame:\\n\", merged_df)\n"
   ]
  },
  {
   "cell_type": "code",
   "execution_count": null,
   "id": "5c8f729d",
   "metadata": {},
   "outputs": [],
   "source": []
  }
 ],
 "metadata": {
  "kernelspec": {
   "display_name": "base",
   "language": "python",
   "name": "python3"
  },
  "language_info": {
   "codemirror_mode": {
    "name": "ipython",
    "version": 3
   },
   "file_extension": ".py",
   "mimetype": "text/x-python",
   "name": "python",
   "nbconvert_exporter": "python",
   "pygments_lexer": "ipython3",
   "version": "3.9.19"
  }
 },
 "nbformat": 4,
 "nbformat_minor": 5
}
