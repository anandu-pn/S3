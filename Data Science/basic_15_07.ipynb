{
 "cells": [
  {
   "cell_type": "code",
   "execution_count": 1,
   "id": "cb60efab",
   "metadata": {},
   "outputs": [],
   "source": [
    "import numpy as np"
   ]
  },
  {
   "cell_type": "code",
   "execution_count": 3,
   "id": "e88e3e69",
   "metadata": {},
   "outputs": [
    {
     "name": "stdout",
     "output_type": "stream",
     "text": [
      "[1 2 3 4]\n",
      "<class 'numpy.ndarray'>\n"
     ]
    }
   ],
   "source": [
    "p=np.array((1,2,3,4))\n",
    "print(p)\n",
    "print(type(p))"
   ]
  },
  {
   "cell_type": "code",
   "execution_count": 11,
   "id": "15f4fb88",
   "metadata": {},
   "outputs": [
    {
     "name": "stdout",
     "output_type": "stream",
     "text": [
      "[ 0  1  2  3  4  5  6  7  8  9 10]\n",
      "[ 1  3  5  7  9 11 13 15 17 19 21 23 25 27 29 31 33 35 37 39 41 43 45 47\n",
      " 49]\n",
      "[0 0 0 0 0 0 0 0 0 0]\n",
      "[1. 1. 1. 1. 1. 1. 1. 1. 1. 1.]\n"
     ]
    }
   ],
   "source": [
    "p=np.arange(11)\n",
    "print(p)\n",
    "k=np.arange(1,50,2)\n",
    "print(k)\n",
    "#float use the int variable\n",
    "z=np.zeros(10,int)\n",
    "print(z)\n",
    "o=np.ones(10)\n",
    "print(o)"
   ]
  },
  {
   "cell_type": "code",
   "execution_count": 14,
   "id": "39754da6",
   "metadata": {},
   "outputs": [
    {
     "name": "stdout",
     "output_type": "stream",
     "text": [
      "[[1. 1. 1.]\n",
      " [1. 1. 1.]\n",
      " [1. 1. 1.]]\n",
      "[[1 2 3]\n",
      " [4 5 6]\n",
      " [7 8 9]]\n"
     ]
    }
   ],
   "source": [
    "#matrix\n",
    "mat=np.ones((3,3))\n",
    "print(mat)\n",
    "mat1=np.array([[1,2,3],[4,5,6],[7,8,9]])\n",
    "print(mat1)"
   ]
  },
  {
   "cell_type": "code",
   "execution_count": 17,
   "id": "cae58f1f",
   "metadata": {},
   "outputs": [
    {
     "name": "stdout",
     "output_type": "stream",
     "text": [
      "[[1 0 0]\n",
      " [0 1 0]\n",
      " [0 0 1]]\n"
     ]
    }
   ],
   "source": [
    "#identity matrix\n",
    "mat2=np.eye(3,dtype=int)\n",
    "print(mat2)"
   ]
  },
  {
   "cell_type": "code",
   "execution_count": 34,
   "id": "78102f6f",
   "metadata": {},
   "outputs": [
    {
     "name": "stdout",
     "output_type": "stream",
     "text": [
      "[1 2 3 4 5 6 7]\n",
      "[2 3 4 5]\n",
      "[1 2 3 4 5]\n",
      "[5 6 7]\n",
      "[4 5 6]\n",
      "5\n",
      "[ 1  2 10  4  5  6  7]\n",
      "[ 1  2 10  4  5  6  7]\n"
     ]
    }
   ],
   "source": [
    "#array op\n",
    "mat4=np.arange(1,8)\n",
    "print(mat4)\n",
    "print(mat4[1:5])\n",
    "print(mat4[:5])\n",
    "print(mat4[4:])\n",
    "print(mat4[-4:-1])\n",
    "print(mat4[4])\n",
    "mat4[2]=10\n",
    "print(mat4)\n",
    "b=np.copy(mat4)\n",
    "print(b)"
   ]
  },
  {
   "cell_type": "code",
   "execution_count": 42,
   "id": "9f363a9e",
   "metadata": {},
   "outputs": [
    {
     "name": "stdout",
     "output_type": "stream",
     "text": [
      "first: [1 2 3 4 5] second: [4 5 6 7 8]\n",
      "[1 2 3 4 5 4 5 6 7 8]\n",
      "[[1 2 3 1 8]\n",
      " [4 5 6 7 9]]\n"
     ]
    }
   ],
   "source": [
    "a=np.array((1,2,3,4,5))\n",
    "b=np.array((4,5,6,7,8))\n",
    "print(\"first:\",a,\"second:\",b)\n",
    "new=np.concatenate((a,b))\n",
    "print(new)\n",
    "m1=np.array([[1,2,3],[4,5,6]])\n",
    "m2=np.array([[1,8],[7,9]])\n",
    "newarr=np.concatenate((m1,m2),axis=1)\n",
    "print(newarr)"
   ]
  },
  {
   "cell_type": "code",
   "execution_count": 53,
   "id": "cb504a27",
   "metadata": {},
   "outputs": [
    {
     "name": "stdout",
     "output_type": "stream",
     "text": [
      "(array([1]),)\n",
      "[1]\n",
      "number of times found:\n",
      "2\n"
     ]
    }
   ],
   "source": [
    "ar=np.array((2,3,5,8,9,7,2))\n",
    "x=np.where(ar==3)\n",
    "print(x)\n",
    "print(x[0])\n",
    "if((x[0].size)>0):\n",
    "    print(\"number of times found:\")\n",
    "    print(*x[0]+1)\n",
    "else:\n",
    "    print(\"Number is not found\")"
   ]
  }
 ],
 "metadata": {
  "kernelspec": {
   "display_name": "base",
   "language": "python",
   "name": "python3"
  },
  "language_info": {
   "codemirror_mode": {
    "name": "ipython",
    "version": 3
   },
   "file_extension": ".py",
   "mimetype": "text/x-python",
   "name": "python",
   "nbconvert_exporter": "python",
   "pygments_lexer": "ipython3",
   "version": "3.9.19"
  }
 },
 "nbformat": 4,
 "nbformat_minor": 5
}
